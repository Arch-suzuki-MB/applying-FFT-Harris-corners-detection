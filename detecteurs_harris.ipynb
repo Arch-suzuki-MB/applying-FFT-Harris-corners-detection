{
 "cells": [
  {
   "cell_type": "code",
   "execution_count": 1,
   "id": "2f93da58",
   "metadata": {},
   "outputs": [],
   "source": [
    "import numpy as np\n",
    "import matplotlib.pyplot as plt \n",
    "from matplotlib import image"
   ]
  },
  {
   "cell_type": "code",
   "execution_count": 2,
   "id": "d26dabf0",
   "metadata": {},
   "outputs": [
    {
     "data": {
      "text/plain": [
       "<matplotlib.image.AxesImage at 0x2c66dd656a0>"
      ]
     },
     "execution_count": 2,
     "metadata": {},
     "output_type": "execute_result"
    },
    {
     "data": {
      "image/png": "[encoded data removed]",
      "text/plain": [
       "<Figure size 432x288 with 1 Axes>"
      ]
     },
     "metadata": {
      "needs_background": "light"
     },
     "output_type": "display_data"
    }
   ],
   "source": [
    "img=image.imread(\"C:/Users/safae/Downloads/rectangle.jpg\")\n",
    "plt.imshow(img)"
   ]
  },
  {
   "cell_type": "code",
   "execution_count": 3,
   "id": "1f9d77df",
   "metadata": {},
   "outputs": [
    {
     "name": "stdout",
     "output_type": "stream",
     "text": [
      "(300, 300, 3)\n"
     ]
    }
   ],
   "source": [
    "print(img.shape)"
   ]
  },
  {
   "cell_type": "code",
   "execution_count": 4,
   "id": "266a1fa0",
   "metadata": {},
   "outputs": [],
   "source": [
    "from skimage.color import rgb2gray "
   ]
  },
  {
   "cell_type": "code",
   "execution_count": 5,
   "id": "0f995e71",
   "metadata": {},
   "outputs": [],
   "source": [
    "from skimage.color import rgb2gray "
   ]
  },
  {
   "cell_type": "code",
   "execution_count": 6,
   "id": "8dc9013c",
   "metadata": {},
   "outputs": [
    {
     "name": "stdout",
     "output_type": "stream",
     "text": [
      "(300, 300)\n"
     ]
    },
    {
     "data": {
      "text/plain": [
       "<matplotlib.image.AxesImage at 0x2c66e81f9a0>"
      ]
     },
     "execution_count": 6,
     "metadata": {},
     "output_type": "execute_result"
    },
    {
     "data": {
      "image/png": "[encoded data removed]",
      "text/plain": [
       "<Figure size 432x288 with 1 Axes>"
      ]
     },
     "metadata": {
      "needs_background": "light"
     },
     "output_type": "display_data"
    }
   ],
   "source": [
    "img_gray=rgb2gray(img)\n",
    "print(img_gray.shape)\n",
    "plt.imshow(img_gray,cmap=\"gray\")"
   ]
  },
  {
   "cell_type": "code",
   "execution_count": 7,
   "id": "4d68eb5f",
   "metadata": {},
   "outputs": [],
   "source": [
    "def convolution(img,kernel):\n",
    "    m, n = kernel.shape\n",
    "    if (m == n):\n",
    "        y, x = img.shape\n",
    "        y = y - m + 1\n",
    "        x = x - m + 1\n",
    "        derive = np.zeros((y,x))\n",
    "        for i in range(y):\n",
    "            for j in range(x):\n",
    "                derive[i][j] = np.sum(np.multiply(img[i:i+m, j:j+m],kernel))\n",
    "    return derive"
   ]
  },
  {
   "cell_type": "code",
   "execution_count": 8,
   "id": "9ffb0d59",
   "metadata": {},
   "outputs": [
    {
     "name": "stdout",
     "output_type": "stream",
     "text": [
      "(3, 3)\n"
     ]
    }
   ],
   "source": [
    "sobelY=np.array([[1,2,1],\n",
    "                 [0,0,0],\n",
    "                 [-1,-2,-1]],dtype=int)\n",
    "print(sobelY.shape)\n",
    "gradientY=convolution(img_gray,sobelY)"
   ]
  },
  {
   "cell_type": "code",
   "execution_count": 9,
   "id": "e56d5ee2",
   "metadata": {},
   "outputs": [
    {
     "data": {
      "text/plain": [
       "<matplotlib.image.AxesImage at 0x2c66e88c8e0>"
      ]
     },
     "execution_count": 9,
     "metadata": {},
     "output_type": "execute_result"
    },
    {
     "data": {
      "image/png": "[encoded data removed]",
      "text/plain": [
       "<Figure size 432x288 with 1 Axes>"
      ]
     },
     "metadata": {
      "needs_background": "light"
     },
     "output_type": "display_data"
    }
   ],
   "source": [
    "plt.imshow(gradientY,cmap=\"gray\")"
   ]
  },
  {
   "cell_type": "code",
   "execution_count": 10,
   "id": "590523a5",
   "metadata": {},
   "outputs": [],
   "source": [
    "sobelX=np.array([[1,0,-1],\n",
    "                 [2,0,-2],\n",
    "                 [1,0,-1]],dtype=int)\n",
    "gradientX=convolution(img_gray,sobelX)"
   ]
  },
  {
   "cell_type": "code",
   "execution_count": 11,
   "id": "eddcbd4b",
   "metadata": {},
   "outputs": [
    {
     "data": {
      "text/plain": [
       "<matplotlib.image.AxesImage at 0x2c66f8bf970>"
      ]
     },
     "execution_count": 11,
     "metadata": {},
     "output_type": "execute_result"
    },
    {
     "data": {
      "image/png": "[encoded data removed]",
      "text/plain": [
       "<Figure size 432x288 with 1 Axes>"
      ]
     },
     "metadata": {
      "needs_background": "light"
     },
     "output_type": "display_data"
    }
   ],
   "source": [
    "plt.imshow(gradientX,cmap=\"gray\")"
   ]
  },
  {
   "cell_type": "markdown",
   "id": "180a1549",
   "metadata": {},
   "source": [
    "##### definir la matrice M"
   ]
  },
  {
   "cell_type": "code",
   "execution_count": 12,
   "id": "a26945b9",
   "metadata": {},
   "outputs": [
    {
     "data": {
      "text/plain": [
       "(298, 298)"
      ]
     },
     "execution_count": 12,
     "metadata": {},
     "output_type": "execute_result"
    }
   ],
   "source": [
    "gradientX.shape"
   ]
  },
  {
   "cell_type": "code",
   "execution_count": 13,
   "id": "094b657a",
   "metadata": {},
   "outputs": [],
   "source": [
    "#elimination de bruit\n",
    "from scipy.ndimage import gaussian_filter\n",
    "Ixx = gaussian_filter(gradientX**2, sigma=1)\n",
    "Ixy = gaussian_filter(gradientY*gradientX, sigma=1)\n",
    "Iyy = gaussian_filter(gradientY**2, sigma=1)"
   ]
  },
  {
   "cell_type": "code",
   "execution_count": 14,
   "id": "8eebceda",
   "metadata": {},
   "outputs": [],
   "source": [
    "k = 0.04\n",
    "\n",
    "# determinant\n",
    "detA = Ixx * Iyy - Ixy ** 2\n",
    "# trace\n",
    "traceA = Ixx + Iyy\n",
    "    \n",
    "harris_response = detA - k * traceA ** 2"
   ]
  },
  {
   "cell_type": "code",
   "execution_count": 15,
   "id": "ca77c81e",
   "metadata": {},
   "outputs": [
    {
     "data": {
      "text/plain": [
       "(298, 298)"
      ]
     },
     "execution_count": 15,
     "metadata": {},
     "output_type": "execute_result"
    }
   ],
   "source": [
    "harris_response.shape"
   ]
  },
  {
   "cell_type": "code",
   "execution_count": 16,
   "id": "6e0aae03",
   "metadata": {},
   "outputs": [
    {
     "data": {
      "text/plain": [
       "array([[0., 0., 0., ..., 0., 0., 0.],\n",
       "       [0., 0., 0., ..., 0., 0., 0.],\n",
       "       [0., 0., 0., ..., 0., 0., 0.],\n",
       "       ...,\n",
       "       [0., 0., 0., ..., 0., 0., 0.],\n",
       "       [0., 0., 0., ..., 0., 0., 0.],\n",
       "       [0., 0., 0., ..., 0., 0., 0.]])"
      ]
     },
     "execution_count": 16,
     "metadata": {},
     "output_type": "execute_result"
    }
   ],
   "source": [
    "harris_response"
   ]
  },
  {
   "cell_type": "code",
   "execution_count": 17,
   "id": "2a856b86",
   "metadata": {},
   "outputs": [],
   "source": [
    "edge=np.where(harris_response<0,harris_response,0)\n",
    "coin=np.where(harris_response>0.501,harris_response,0)"
   ]
  },
  {
   "cell_type": "code",
   "execution_count": 18,
   "id": "e2f227b3",
   "metadata": {},
   "outputs": [
    {
     "name": "stdout",
     "output_type": "stream",
     "text": [
      "(298, 298)\n"
     ]
    }
   ],
   "source": [
    "print(coin.shape)"
   ]
  },
  {
   "cell_type": "code",
   "execution_count": 19,
   "id": "6f9b8c2d",
   "metadata": {},
   "outputs": [
    {
     "data": {
      "text/plain": [
       "<matplotlib.image.AxesImage at 0x2c66fabc370>"
      ]
     },
     "execution_count": 19,
     "metadata": {},
     "output_type": "execute_result"
    },
    {
     "data": {
      "image/png": "[encoded data removed]",
      "text/plain": [
       "<Figure size 432x288 with 2 Axes>"
      ]
     },
     "metadata": {
      "needs_background": "light"
     },
     "output_type": "display_data"
    }
   ],
   "source": [
    "plt.figure()\n",
    "plt.subplot(1,2,1)\n",
    "plt.title(\"detection des arrets\")\n",
    "plt.imshow(edge,cmap=\"gray\")\n",
    "\n",
    "plt.subplot(1,2,2)\n",
    "plt.title(\"detection des coins\")\n",
    "plt.imshow(coin,cmap=\"gray\")"
   ]
  },
  {
   "cell_type": "code",
   "execution_count": 20,
   "id": "60d44131",
   "metadata": {},
   "outputs": [],
   "source": [
    "img_copy_for_corners = np.copy(img)\n",
    "\n",
    "for i in range(coin.shape[0]):\n",
    "    for j in range(coin.shape[1]):\n",
    "        if coin[i][j] > 0:\n",
    "            # this is a corner\n",
    "            img_copy_for_corners[i, j] = [255,90,90]\n",
    "       "
   ]
  },
  {
   "cell_type": "code",
   "execution_count": 21,
   "id": "09df89af",
   "metadata": {},
   "outputs": [
    {
     "data": {
      "text/plain": [
       "<matplotlib.image.AxesImage at 0x2c66fb7e700>"
      ]
     },
     "execution_count": 21,
     "metadata": {},
     "output_type": "execute_result"
    },
    {
     "data": {
      "image/png": "[encoded data removed]",
      "text/plain": [
       "<Figure size 432x288 with 1 Axes>"
      ]
     },
     "metadata": {
      "needs_background": "light"
     },
     "output_type": "display_data"
    }
   ],
   "source": [
    "plt.imshow( img_copy_for_corners)"
   ]
  },
  {
   "cell_type": "code",
   "execution_count": null,
   "id": "84f6b6c7",
   "metadata": {},
   "outputs": [],
   "source": []
  }
 ],
 "metadata": {
  "kernelspec": {
   "display_name": "Python 3 (ipykernel)",
   "language": "python",
   "name": "python3"
  },
  "language_info": {
   "codemirror_mode": {
    "name": "ipython",
    "version": 3
   },
   "file_extension": ".py",
   "mimetype": "text/x-python",
   "name": "python",
   "nbconvert_exporter": "python",
   "pygments_lexer": "ipython3",
   "version": "3.9.12"
  }
 },
 "nbformat": 4,
 "nbformat_minor": 5
}
